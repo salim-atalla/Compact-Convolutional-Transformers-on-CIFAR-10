{
  "cells": [
    {
      "cell_type": "markdown",
      "metadata": {
        "id": "wXWvW-zzejdC"
      },
      "source": [
        "# Compact Convolutional Transformers\n",
        "\n",
        "**Author:** [Sayak Paul](https://twitter.com/RisingSayak)<br>\n",
        "**Date created:** 2021/06/30<br>\n",
        "**Last modified:** 2023/08/07<br>\n",
        "**Description:** Compact Convolutional Transformers for efficient image classification."
      ]
    },
    {
      "cell_type": "markdown",
      "metadata": {
        "id": "c-qXNgCqejdE"
      },
      "source": [
        "As discussed in the [Vision Transformers (ViT)](https://arxiv.org/abs/2010.11929) paper,\n",
        "a Transformer-based architecture for vision typically requires a larger dataset than\n",
        "usual, as well as a longer pre-training schedule. [ImageNet-1k](http://imagenet.org/)\n",
        "(which has about a million images) is considered to fall under the medium-sized data regime with\n",
        "respect to ViTs. This is primarily because, unlike CNNs, ViTs (or a typical\n",
        "Transformer-based architecture) do not have well-informed inductive biases (such as\n",
        "convolutions for processing images). This begs the question: can't we combine the\n",
        "benefits of convolution and the benefits of Transformers\n",
        "in a single network architecture? These benefits include parameter-efficiency, and\n",
        "self-attention to process long-range and global dependencies (interactions between\n",
        "different regions in an image).\n",
        "\n",
        "In [Escaping the Big Data Paradigm with Compact Transformers](https://arxiv.org/abs/2104.05704),\n",
        "Hassani et al. present an approach for doing exactly this. They proposed the\n",
        "**Compact Convolutional Transformer** (CCT) architecture. In this example, we will work on an\n",
        "implementation of CCT and we will see how well it performs on the CIFAR-10 dataset.\n",
        "\n",
        "If you are unfamiliar with the concept of self-attention or Transformers, you can read\n",
        "[this chapter](https://livebook.manning.com/book/deep-learning-with-python-second-edition/chapter-11/r-3/312)\n",
        "from  François Chollet's book *Deep Learning with Python*. This example uses\n",
        "code snippets from another example,\n",
        "[Image classification with Vision Transformer](https://keras.io/examples/vision/image_classification_with_vision_transformer/)."
      ]
    },
    {
      "cell_type": "markdown",
      "metadata": {
        "id": "qcejwQXPejdF"
      },
      "source": [
        "## Imports"
      ]
    },
    {
      "cell_type": "code",
      "execution_count": 25,
      "metadata": {
        "id": "9Pijv9XEejdF"
      },
      "outputs": [],
      "source": [
        "from keras import layers\n",
        "import keras\n",
        "\n",
        "import matplotlib.pyplot as plt\n",
        "import numpy as np\n",
        "\n",
        "from sklearn.metrics import confusion_matrix, classification_report\n",
        "import seaborn as sns"
      ]
    },
    {
      "cell_type": "markdown",
      "metadata": {
        "id": "JiFJpioaejdG"
      },
      "source": [
        "## Hyperparameters and constants"
      ]
    },
    {
      "cell_type": "code",
      "execution_count": 26,
      "metadata": {
        "id": "gA-jv4z7ejdG"
      },
      "outputs": [],
      "source": [
        "positional_emb = True\n",
        "conv_layers = 2\n",
        "projection_dim = 128\n",
        "\n",
        "num_heads = 2\n",
        "transformer_units = [\n",
        "    projection_dim,\n",
        "    projection_dim,\n",
        "]\n",
        "transformer_layers = 2\n",
        "stochastic_depth_rate = 0.1\n",
        "\n",
        "learning_rate = 0.001\n",
        "weight_decay = 0.0001\n",
        "batch_size = 128\n",
        "num_epochs = 30\n",
        "image_size = 32"
      ]
    },
    {
      "cell_type": "markdown",
      "metadata": {
        "id": "9Yx_cXFRejdG"
      },
      "source": [
        "## Load CIFAR-10 dataset"
      ]
    },
    {
      "cell_type": "code",
      "execution_count": 27,
      "metadata": {
        "id": "4p2IyJ3BejdG",
        "outputId": "a7430ae9-c929-41ef-e8d0-bfee1bbe148f",
        "colab": {
          "base_uri": "https://localhost:8080/"
        }
      },
      "outputs": [
        {
          "output_type": "stream",
          "name": "stdout",
          "text": [
            "x_train shape: (50000, 32, 32, 3) - y_train shape: (50000, 10)\n",
            "x_test shape: (10000, 32, 32, 3) - y_test shape: (10000, 10)\n"
          ]
        }
      ],
      "source": [
        "num_classes = 10\n",
        "input_shape = (32, 32, 3)\n",
        "\n",
        "(x_train, y_train), (x_test, y_test) = keras.datasets.cifar10.load_data()\n",
        "\n",
        "y_train = keras.utils.to_categorical(y_train, num_classes)\n",
        "y_test = keras.utils.to_categorical(y_test, num_classes)\n",
        "\n",
        "print(f\"x_train shape: {x_train.shape} - y_train shape: {y_train.shape}\")\n",
        "print(f\"x_test shape: {x_test.shape} - y_test shape: {y_test.shape}\")"
      ]
    },
    {
      "cell_type": "markdown",
      "metadata": {
        "id": "6fKXOkpdejdG"
      },
      "source": [
        "## The CCT tokenizer\n",
        "\n",
        "The first recipe introduced by the CCT authors is the tokenizer for processing the\n",
        "images. In a standard ViT, images are organized into uniform *non-overlapping* patches.\n",
        "This eliminates the boundary-level information present in between different patches. This\n",
        "is important for a neural network to effectively exploit the locality information. The\n",
        "figure below presents an illustration of how images are organized into patches.\n",
        "\n",
        "![](https://i.imgur.com/IkBK9oY.png)\n",
        "\n",
        "We already know that convolutions are quite good at exploiting locality information. So,\n",
        "based on this, the authors introduce an all-convolution mini-network to produce image\n",
        "patches."
      ]
    },
    {
      "cell_type": "code",
      "execution_count": 28,
      "metadata": {
        "id": "DUHiBBDwejdG"
      },
      "outputs": [],
      "source": [
        "\n",
        "class CCTTokenizer(layers.Layer):\n",
        "    def __init__(\n",
        "        self,\n",
        "        kernel_size=3,\n",
        "        stride=1,\n",
        "        padding=1,\n",
        "        pooling_kernel_size=3,\n",
        "        pooling_stride=2,\n",
        "        num_conv_layers=conv_layers,\n",
        "        num_output_channels=[64, 128],\n",
        "        positional_emb=positional_emb,\n",
        "        **kwargs,\n",
        "    ):\n",
        "        super().__init__(**kwargs)\n",
        "\n",
        "        # This is our tokenizer.\n",
        "        self.conv_model = keras.Sequential()\n",
        "        for i in range(num_conv_layers):\n",
        "            self.conv_model.add(\n",
        "                layers.Conv2D(\n",
        "                    num_output_channels[i],\n",
        "                    kernel_size,\n",
        "                    stride,\n",
        "                    padding=\"valid\",\n",
        "                    use_bias=False,\n",
        "                    activation=\"relu\",\n",
        "                    kernel_initializer=\"he_normal\",\n",
        "                )\n",
        "            )\n",
        "            self.conv_model.add(layers.ZeroPadding2D(padding))\n",
        "            self.conv_model.add(\n",
        "                layers.MaxPooling2D(pooling_kernel_size, pooling_stride, \"same\")\n",
        "            )\n",
        "\n",
        "        self.positional_emb = positional_emb\n",
        "\n",
        "    def call(self, images):\n",
        "        outputs = self.conv_model(images)\n",
        "        # After passing the images through our mini-network the spatial dimensions\n",
        "        # are flattened to form sequences.\n",
        "        reshaped = keras.ops.reshape(\n",
        "            outputs,\n",
        "            (\n",
        "                -1,\n",
        "                keras.ops.shape(outputs)[1] * keras.ops.shape(outputs)[2],\n",
        "                keras.ops.shape(outputs)[-1],\n",
        "            ),\n",
        "        )\n",
        "        return reshaped\n"
      ]
    },
    {
      "cell_type": "markdown",
      "metadata": {
        "id": "wJ9IZvJ3ejdH"
      },
      "source": [
        "Positional embeddings are optional in CCT. If we want to use them, we can use\n",
        "the Layer defined below."
      ]
    },
    {
      "cell_type": "code",
      "execution_count": 29,
      "metadata": {
        "id": "xcX5nhDvejdH"
      },
      "outputs": [],
      "source": [
        "\n",
        "class PositionEmbedding(keras.layers.Layer):\n",
        "    def __init__(\n",
        "        self,\n",
        "        sequence_length,\n",
        "        initializer=\"glorot_uniform\",\n",
        "        **kwargs,\n",
        "    ):\n",
        "        super().__init__(**kwargs)\n",
        "        if sequence_length is None:\n",
        "            raise ValueError(\"`sequence_length` must be an Integer, received `None`.\")\n",
        "        self.sequence_length = int(sequence_length)\n",
        "        self.initializer = keras.initializers.get(initializer)\n",
        "\n",
        "    def get_config(self):\n",
        "        config = super().get_config()\n",
        "        config.update(\n",
        "            {\n",
        "                \"sequence_length\": self.sequence_length,\n",
        "                \"initializer\": keras.initializers.serialize(self.initializer),\n",
        "            }\n",
        "        )\n",
        "        return config\n",
        "\n",
        "    def build(self, input_shape):\n",
        "        feature_size = input_shape[-1]\n",
        "        self.position_embeddings = self.add_weight(\n",
        "            name=\"embeddings\",\n",
        "            shape=[self.sequence_length, feature_size],\n",
        "            initializer=self.initializer,\n",
        "            trainable=True,\n",
        "        )\n",
        "\n",
        "        super().build(input_shape)\n",
        "\n",
        "    def call(self, inputs, start_index=0):\n",
        "        shape = keras.ops.shape(inputs)\n",
        "        feature_length = shape[-1]\n",
        "        sequence_length = shape[-2]\n",
        "        # trim to match the length of the input sequence, which might be less\n",
        "        # than the sequence_length of the layer.\n",
        "        position_embeddings = keras.ops.convert_to_tensor(self.position_embeddings)\n",
        "        position_embeddings = keras.ops.slice(\n",
        "            position_embeddings,\n",
        "            (start_index, 0),\n",
        "            (sequence_length, feature_length),\n",
        "        )\n",
        "        return keras.ops.broadcast_to(position_embeddings, shape)\n",
        "\n",
        "    def compute_output_shape(self, input_shape):\n",
        "        return input_shape\n"
      ]
    },
    {
      "cell_type": "markdown",
      "metadata": {
        "id": "WDnkjj3MejdH"
      },
      "source": [
        "## Sequence Pooling\n",
        "Another recipe introduced in CCT is attention pooling or sequence pooling. In ViT, only\n",
        "the feature map corresponding to the class token is pooled and is then used for the\n",
        "subsequent classification task (or any other downstream task)."
      ]
    },
    {
      "cell_type": "code",
      "execution_count": 30,
      "metadata": {
        "id": "tU9-FrDcejdH"
      },
      "outputs": [],
      "source": [
        "\n",
        "class SequencePooling(layers.Layer):\n",
        "    def __init__(self):\n",
        "        super().__init__()\n",
        "        self.attention = layers.Dense(1)\n",
        "\n",
        "    def call(self, x):\n",
        "        attention_weights = keras.ops.softmax(self.attention(x), axis=1)\n",
        "        attention_weights = keras.ops.transpose(attention_weights, axes=(0, 2, 1))\n",
        "        weighted_representation = keras.ops.matmul(attention_weights, x)\n",
        "        return keras.ops.squeeze(weighted_representation, -2)\n"
      ]
    },
    {
      "cell_type": "markdown",
      "metadata": {
        "id": "_gEvs71WejdH"
      },
      "source": [
        "## Stochastic depth for regularization\n",
        "\n",
        "[Stochastic depth](https://arxiv.org/abs/1603.09382) is a regularization technique that\n",
        "randomly drops a set of layers. During inference, the layers are kept as they are. It is\n",
        "very much similar to [Dropout](https://jmlr.org/papers/v15/srivastava14a.html) but only\n",
        "that it operates on a block of layers rather than individual nodes present inside a\n",
        "layer. In CCT, stochastic depth is used just before the residual blocks of a Transformers\n",
        "encoder."
      ]
    },
    {
      "cell_type": "code",
      "execution_count": 31,
      "metadata": {
        "id": "z1-mMQUCejdH"
      },
      "outputs": [],
      "source": [
        "\n",
        "# Referred from: github.com:rwightman/pytorch-image-models.\n",
        "class StochasticDepth(layers.Layer):\n",
        "    def __init__(self, drop_prop, **kwargs):\n",
        "        super().__init__(**kwargs)\n",
        "        self.drop_prob = drop_prop\n",
        "        self.seed_generator = keras.random.SeedGenerator(1337)\n",
        "\n",
        "    def call(self, x, training=None):\n",
        "        if training:\n",
        "            keep_prob = 1 - self.drop_prob\n",
        "            shape = (keras.ops.shape(x)[0],) + (1,) * (len(x.shape) - 1)\n",
        "            random_tensor = keep_prob + keras.random.uniform(\n",
        "                shape, 0, 1, seed=self.seed_generator\n",
        "            )\n",
        "            random_tensor = keras.ops.floor(random_tensor)\n",
        "            return (x / keep_prob) * random_tensor\n",
        "        return x\n"
      ]
    },
    {
      "cell_type": "markdown",
      "metadata": {
        "id": "CT3dzA-cejdI"
      },
      "source": [
        "## MLP for the Transformers encoder"
      ]
    },
    {
      "cell_type": "code",
      "execution_count": 32,
      "metadata": {
        "id": "8BTZixXoejdI"
      },
      "outputs": [],
      "source": [
        "\n",
        "def mlp(x, hidden_units, dropout_rate):\n",
        "    for units in hidden_units:\n",
        "        x = layers.Dense(units, activation=keras.ops.gelu)(x)\n",
        "        x = layers.Dropout(dropout_rate)(x)\n",
        "    return x\n"
      ]
    },
    {
      "cell_type": "markdown",
      "metadata": {
        "id": "6IPPTsq0ejdI"
      },
      "source": [
        "## Data augmentation\n",
        "\n",
        "In the [original paper](https://arxiv.org/abs/2104.05704), the authors use\n",
        "[AutoAugment](https://arxiv.org/abs/1805.09501) to induce stronger regularization. For\n",
        "this example, we will be using the standard geometric augmentations like random cropping\n",
        "and flipping."
      ]
    },
    {
      "cell_type": "code",
      "execution_count": 33,
      "metadata": {
        "id": "9qO7oNCaejdI"
      },
      "outputs": [],
      "source": [
        "# Note the rescaling layer. These layers have pre-defined inference behavior.\n",
        "data_augmentation = keras.Sequential(\n",
        "    [\n",
        "        layers.Rescaling(scale=1.0 / 255),\n",
        "        layers.RandomCrop(image_size, image_size),\n",
        "        layers.RandomFlip(\"horizontal\"),\n",
        "    ],\n",
        "    name=\"data_augmentation\",\n",
        ")"
      ]
    },
    {
      "cell_type": "markdown",
      "metadata": {
        "id": "WIHm3oDhejdI"
      },
      "source": [
        "## The final CCT model\n",
        "\n",
        "In CCT, outputs from the Transformers encoder are weighted and then passed on to the final task-specific layer (in\n",
        "this example, we do classification)."
      ]
    },
    {
      "cell_type": "code",
      "execution_count": 34,
      "metadata": {
        "id": "6PZu-wPHejdI"
      },
      "outputs": [],
      "source": [
        "\n",
        "def create_cct_model(\n",
        "    image_size=image_size,\n",
        "    input_shape=input_shape,\n",
        "    num_heads=num_heads,\n",
        "    projection_dim=projection_dim,\n",
        "    transformer_units=transformer_units,\n",
        "):\n",
        "    inputs = layers.Input(input_shape)\n",
        "\n",
        "    # Augment data.\n",
        "    augmented = data_augmentation(inputs)\n",
        "\n",
        "    # Encode patches.\n",
        "    cct_tokenizer = CCTTokenizer()\n",
        "    encoded_patches = cct_tokenizer(augmented)\n",
        "\n",
        "    # Apply positional embedding.\n",
        "    if positional_emb:\n",
        "        sequence_length = encoded_patches.shape[1]\n",
        "        encoded_patches += PositionEmbedding(sequence_length=sequence_length)(\n",
        "            encoded_patches\n",
        "        )\n",
        "\n",
        "    # Calculate Stochastic Depth probabilities.\n",
        "    dpr = [x for x in np.linspace(0, stochastic_depth_rate, transformer_layers)]\n",
        "\n",
        "    # Create multiple layers of the Transformer block.\n",
        "    for i in range(transformer_layers):\n",
        "        # Layer normalization 1.\n",
        "        x1 = layers.LayerNormalization(epsilon=1e-5)(encoded_patches)\n",
        "\n",
        "        # Create a multi-head attention layer.\n",
        "        attention_output = layers.MultiHeadAttention(\n",
        "            num_heads=num_heads, key_dim=projection_dim, dropout=0.1\n",
        "        )(x1, x1)\n",
        "\n",
        "        # Skip connection 1.\n",
        "        attention_output = StochasticDepth(dpr[i])(attention_output)\n",
        "        x2 = layers.Add()([attention_output, encoded_patches])\n",
        "\n",
        "        # Layer normalization 2.\n",
        "        x3 = layers.LayerNormalization(epsilon=1e-5)(x2)\n",
        "\n",
        "        # MLP.\n",
        "        x3 = mlp(x3, hidden_units=transformer_units, dropout_rate=0.1)\n",
        "\n",
        "        # Skip connection 2.\n",
        "        x3 = StochasticDepth(dpr[i])(x3)\n",
        "        encoded_patches = layers.Add()([x3, x2])\n",
        "\n",
        "    # Apply sequence pooling.\n",
        "    representation = layers.LayerNormalization(epsilon=1e-5)(encoded_patches)\n",
        "    weighted_representation = SequencePooling()(representation)\n",
        "\n",
        "    # Classify outputs.\n",
        "    logits = layers.Dense(num_classes)(weighted_representation)\n",
        "    # Create the Keras model.\n",
        "    model = keras.Model(inputs=inputs, outputs=logits)\n",
        "    return model\n"
      ]
    },
    {
      "cell_type": "markdown",
      "metadata": {
        "id": "fm0Eja_MejdI"
      },
      "source": [
        "## Model training and evaluation"
      ]
    },
    {
      "cell_type": "code",
      "execution_count": 35,
      "metadata": {
        "id": "xXgYnqrSejdJ",
        "outputId": "03264f24-c9ce-42e2-9177-7ff64be1a76c",
        "colab": {
          "base_uri": "https://localhost:8080/"
        }
      },
      "outputs": [
        {
          "output_type": "stream",
          "name": "stdout",
          "text": [
            "Epoch 1/30\n",
            "\u001b[1m352/352\u001b[0m \u001b[32m━━━━━━━━━━━━━━━━━━━━\u001b[0m\u001b[37m\u001b[0m \u001b[1m23s\u001b[0m 42ms/step - accuracy: 0.2483 - loss: 2.1121 - top-5-accuracy: 0.7450 - val_accuracy: 0.5154 - val_loss: 1.5391 - val_top-5-accuracy: 0.9364\n",
            "Epoch 2/30\n",
            "\u001b[1m352/352\u001b[0m \u001b[32m━━━━━━━━━━━━━━━━━━━━\u001b[0m\u001b[37m\u001b[0m \u001b[1m19s\u001b[0m 40ms/step - accuracy: 0.5183 - loss: 1.5447 - top-5-accuracy: 0.9355 - val_accuracy: 0.5762 - val_loss: 1.4340 - val_top-5-accuracy: 0.9528\n",
            "Epoch 3/30\n",
            "\u001b[1m352/352\u001b[0m \u001b[32m━━━━━━━━━━━━━━━━━━━━\u001b[0m\u001b[37m\u001b[0m \u001b[1m21s\u001b[0m 40ms/step - accuracy: 0.6023 - loss: 1.3732 - top-5-accuracy: 0.9575 - val_accuracy: 0.6370 - val_loss: 1.3082 - val_top-5-accuracy: 0.9660\n",
            "Epoch 4/30\n",
            "\u001b[1m352/352\u001b[0m \u001b[32m━━━━━━━━━━━━━━━━━━━━\u001b[0m\u001b[37m\u001b[0m \u001b[1m20s\u001b[0m 39ms/step - accuracy: 0.6326 - loss: 1.2999 - top-5-accuracy: 0.9652 - val_accuracy: 0.6728 - val_loss: 1.2258 - val_top-5-accuracy: 0.9764\n",
            "Epoch 5/30\n",
            "\u001b[1m352/352\u001b[0m \u001b[32m━━━━━━━━━━━━━━━━━━━━\u001b[0m\u001b[37m\u001b[0m \u001b[1m14s\u001b[0m 39ms/step - accuracy: 0.6753 - loss: 1.2229 - top-5-accuracy: 0.9734 - val_accuracy: 0.6932 - val_loss: 1.1900 - val_top-5-accuracy: 0.9728\n",
            "Epoch 6/30\n",
            "\u001b[1m352/352\u001b[0m \u001b[32m━━━━━━━━━━━━━━━━━━━━\u001b[0m\u001b[37m\u001b[0m \u001b[1m14s\u001b[0m 40ms/step - accuracy: 0.6961 - loss: 1.1810 - top-5-accuracy: 0.9759 - val_accuracy: 0.6642 - val_loss: 1.2592 - val_top-5-accuracy: 0.9704\n",
            "Epoch 7/30\n",
            "\u001b[1m352/352\u001b[0m \u001b[32m━━━━━━━━━━━━━━━━━━━━\u001b[0m\u001b[37m\u001b[0m \u001b[1m14s\u001b[0m 40ms/step - accuracy: 0.7075 - loss: 1.1580 - top-5-accuracy: 0.9773 - val_accuracy: 0.7208 - val_loss: 1.1369 - val_top-5-accuracy: 0.9796\n",
            "Epoch 8/30\n",
            "\u001b[1m352/352\u001b[0m \u001b[32m━━━━━━━━━━━━━━━━━━━━\u001b[0m\u001b[37m\u001b[0m \u001b[1m14s\u001b[0m 39ms/step - accuracy: 0.7266 - loss: 1.1101 - top-5-accuracy: 0.9809 - val_accuracy: 0.6994 - val_loss: 1.1756 - val_top-5-accuracy: 0.9768\n",
            "Epoch 9/30\n",
            "\u001b[1m352/352\u001b[0m \u001b[32m━━━━━━━━━━━━━━━━━━━━\u001b[0m\u001b[37m\u001b[0m \u001b[1m21s\u001b[0m 41ms/step - accuracy: 0.7416 - loss: 1.0827 - top-5-accuracy: 0.9827 - val_accuracy: 0.7252 - val_loss: 1.1233 - val_top-5-accuracy: 0.9840\n",
            "Epoch 10/30\n",
            "\u001b[1m352/352\u001b[0m \u001b[32m━━━━━━━━━━━━━━━━━━━━\u001b[0m\u001b[37m\u001b[0m \u001b[1m14s\u001b[0m 40ms/step - accuracy: 0.7510 - loss: 1.0609 - top-5-accuracy: 0.9843 - val_accuracy: 0.7356 - val_loss: 1.1041 - val_top-5-accuracy: 0.9822\n",
            "Epoch 11/30\n",
            "\u001b[1m352/352\u001b[0m \u001b[32m━━━━━━━━━━━━━━━━━━━━\u001b[0m\u001b[37m\u001b[0m \u001b[1m14s\u001b[0m 40ms/step - accuracy: 0.7630 - loss: 1.0316 - top-5-accuracy: 0.9859 - val_accuracy: 0.7418 - val_loss: 1.0835 - val_top-5-accuracy: 0.9816\n",
            "Epoch 12/30\n",
            "\u001b[1m352/352\u001b[0m \u001b[32m━━━━━━━━━━━━━━━━━━━━\u001b[0m\u001b[37m\u001b[0m \u001b[1m21s\u001b[0m 40ms/step - accuracy: 0.7730 - loss: 1.0116 - top-5-accuracy: 0.9870 - val_accuracy: 0.7438 - val_loss: 1.0849 - val_top-5-accuracy: 0.9816\n",
            "Epoch 13/30\n",
            "\u001b[1m352/352\u001b[0m \u001b[32m━━━━━━━━━━━━━━━━━━━━\u001b[0m\u001b[37m\u001b[0m \u001b[1m14s\u001b[0m 40ms/step - accuracy: 0.7816 - loss: 0.9989 - top-5-accuracy: 0.9877 - val_accuracy: 0.7700 - val_loss: 1.0372 - val_top-5-accuracy: 0.9836\n",
            "Epoch 14/30\n",
            "\u001b[1m352/352\u001b[0m \u001b[32m━━━━━━━━━━━━━━━━━━━━\u001b[0m\u001b[37m\u001b[0m \u001b[1m20s\u001b[0m 40ms/step - accuracy: 0.7858 - loss: 0.9821 - top-5-accuracy: 0.9884 - val_accuracy: 0.7600 - val_loss: 1.0489 - val_top-5-accuracy: 0.9830\n",
            "Epoch 15/30\n",
            "\u001b[1m352/352\u001b[0m \u001b[32m━━━━━━━━━━━━━━━━━━━━\u001b[0m\u001b[37m\u001b[0m \u001b[1m21s\u001b[0m 40ms/step - accuracy: 0.7908 - loss: 0.9744 - top-5-accuracy: 0.9892 - val_accuracy: 0.7754 - val_loss: 1.0119 - val_top-5-accuracy: 0.9874\n",
            "Epoch 16/30\n",
            "\u001b[1m352/352\u001b[0m \u001b[32m━━━━━━━━━━━━━━━━━━━━\u001b[0m\u001b[37m\u001b[0m \u001b[1m20s\u001b[0m 40ms/step - accuracy: 0.7993 - loss: 0.9560 - top-5-accuracy: 0.9902 - val_accuracy: 0.7786 - val_loss: 1.0125 - val_top-5-accuracy: 0.9846\n",
            "Epoch 17/30\n",
            "\u001b[1m352/352\u001b[0m \u001b[32m━━━━━━━━━━━━━━━━━━━━\u001b[0m\u001b[37m\u001b[0m \u001b[1m20s\u001b[0m 39ms/step - accuracy: 0.8082 - loss: 0.9349 - top-5-accuracy: 0.9905 - val_accuracy: 0.7740 - val_loss: 1.0150 - val_top-5-accuracy: 0.9838\n",
            "Epoch 18/30\n",
            "\u001b[1m352/352\u001b[0m \u001b[32m━━━━━━━━━━━━━━━━━━━━\u001b[0m\u001b[37m\u001b[0m \u001b[1m21s\u001b[0m 40ms/step - accuracy: 0.8096 - loss: 0.9371 - top-5-accuracy: 0.9917 - val_accuracy: 0.7838 - val_loss: 1.0006 - val_top-5-accuracy: 0.9882\n",
            "Epoch 19/30\n",
            "\u001b[1m352/352\u001b[0m \u001b[32m━━━━━━━━━━━━━━━━━━━━\u001b[0m\u001b[37m\u001b[0m \u001b[1m14s\u001b[0m 41ms/step - accuracy: 0.8208 - loss: 0.9142 - top-5-accuracy: 0.9914 - val_accuracy: 0.7794 - val_loss: 1.0148 - val_top-5-accuracy: 0.9846\n",
            "Epoch 20/30\n",
            "\u001b[1m352/352\u001b[0m \u001b[32m━━━━━━━━━━━━━━━━━━━━\u001b[0m\u001b[37m\u001b[0m \u001b[1m14s\u001b[0m 40ms/step - accuracy: 0.8210 - loss: 0.9054 - top-5-accuracy: 0.9921 - val_accuracy: 0.7930 - val_loss: 0.9953 - val_top-5-accuracy: 0.9858\n",
            "Epoch 21/30\n",
            "\u001b[1m352/352\u001b[0m \u001b[32m━━━━━━━━━━━━━━━━━━━━\u001b[0m\u001b[37m\u001b[0m \u001b[1m14s\u001b[0m 41ms/step - accuracy: 0.8296 - loss: 0.8928 - top-5-accuracy: 0.9928 - val_accuracy: 0.7844 - val_loss: 1.0069 - val_top-5-accuracy: 0.9868\n",
            "Epoch 22/30\n",
            "\u001b[1m352/352\u001b[0m \u001b[32m━━━━━━━━━━━━━━━━━━━━\u001b[0m\u001b[37m\u001b[0m \u001b[1m14s\u001b[0m 40ms/step - accuracy: 0.8295 - loss: 0.8893 - top-5-accuracy: 0.9933 - val_accuracy: 0.7800 - val_loss: 1.0071 - val_top-5-accuracy: 0.9860\n",
            "Epoch 23/30\n",
            "\u001b[1m352/352\u001b[0m \u001b[32m━━━━━━━━━━━━━━━━━━━━\u001b[0m\u001b[37m\u001b[0m \u001b[1m20s\u001b[0m 40ms/step - accuracy: 0.8363 - loss: 0.8771 - top-5-accuracy: 0.9931 - val_accuracy: 0.7776 - val_loss: 1.0154 - val_top-5-accuracy: 0.9856\n",
            "Epoch 24/30\n",
            "\u001b[1m352/352\u001b[0m \u001b[32m━━━━━━━━━━━━━━━━━━━━\u001b[0m\u001b[37m\u001b[0m \u001b[1m21s\u001b[0m 40ms/step - accuracy: 0.8366 - loss: 0.8706 - top-5-accuracy: 0.9933 - val_accuracy: 0.7952 - val_loss: 0.9813 - val_top-5-accuracy: 0.9890\n",
            "Epoch 25/30\n",
            "\u001b[1m352/352\u001b[0m \u001b[32m━━━━━━━━━━━━━━━━━━━━\u001b[0m\u001b[37m\u001b[0m \u001b[1m21s\u001b[0m 40ms/step - accuracy: 0.8477 - loss: 0.8501 - top-5-accuracy: 0.9945 - val_accuracy: 0.7988 - val_loss: 0.9707 - val_top-5-accuracy: 0.9892\n",
            "Epoch 26/30\n",
            "\u001b[1m352/352\u001b[0m \u001b[32m━━━━━━━━━━━━━━━━━━━━\u001b[0m\u001b[37m\u001b[0m \u001b[1m14s\u001b[0m 40ms/step - accuracy: 0.8555 - loss: 0.8390 - top-5-accuracy: 0.9939 - val_accuracy: 0.7870 - val_loss: 0.9947 - val_top-5-accuracy: 0.9900\n",
            "Epoch 27/30\n",
            "\u001b[1m352/352\u001b[0m \u001b[32m━━━━━━━━━━━━━━━━━━━━\u001b[0m\u001b[37m\u001b[0m \u001b[1m14s\u001b[0m 40ms/step - accuracy: 0.8547 - loss: 0.8365 - top-5-accuracy: 0.9934 - val_accuracy: 0.7974 - val_loss: 0.9883 - val_top-5-accuracy: 0.9852\n",
            "Epoch 28/30\n",
            "\u001b[1m352/352\u001b[0m \u001b[32m━━━━━━━━━━━━━━━━━━━━\u001b[0m\u001b[37m\u001b[0m \u001b[1m14s\u001b[0m 41ms/step - accuracy: 0.8549 - loss: 0.8367 - top-5-accuracy: 0.9947 - val_accuracy: 0.8062 - val_loss: 0.9595 - val_top-5-accuracy: 0.9892\n",
            "Epoch 29/30\n",
            "\u001b[1m352/352\u001b[0m \u001b[32m━━━━━━━━━━━━━━━━━━━━\u001b[0m\u001b[37m\u001b[0m \u001b[1m20s\u001b[0m 40ms/step - accuracy: 0.8636 - loss: 0.8184 - top-5-accuracy: 0.9954 - val_accuracy: 0.8070 - val_loss: 0.9606 - val_top-5-accuracy: 0.9882\n",
            "Epoch 30/30\n",
            "\u001b[1m352/352\u001b[0m \u001b[32m━━━━━━━━━━━━━━━━━━━━\u001b[0m\u001b[37m\u001b[0m \u001b[1m20s\u001b[0m 40ms/step - accuracy: 0.8655 - loss: 0.8108 - top-5-accuracy: 0.9947 - val_accuracy: 0.8028 - val_loss: 0.9780 - val_top-5-accuracy: 0.9880\n",
            "\u001b[1m313/313\u001b[0m \u001b[32m━━━━━━━━━━━━━━━━━━━━\u001b[0m\u001b[37m\u001b[0m \u001b[1m2s\u001b[0m 7ms/step - accuracy: 0.8062 - loss: 0.9651 - top-5-accuracy: 0.9863\n",
            "Test accuracy: 80.41%\n",
            "Test top 5 accuracy: 98.59%\n"
          ]
        }
      ],
      "source": [
        "\n",
        "def run_experiment(model):\n",
        "    optimizer = keras.optimizers.AdamW(learning_rate=0.001, weight_decay=0.0001)\n",
        "\n",
        "    model.compile(\n",
        "        optimizer=optimizer,\n",
        "        loss=keras.losses.CategoricalCrossentropy(\n",
        "            from_logits=True, label_smoothing=0.1\n",
        "        ),\n",
        "        metrics=[\n",
        "            keras.metrics.CategoricalAccuracy(name=\"accuracy\"),\n",
        "            keras.metrics.TopKCategoricalAccuracy(5, name=\"top-5-accuracy\"),\n",
        "        ],\n",
        "    )\n",
        "\n",
        "    checkpoint_filepath = \"/tmp/checkpoint.weights.h5\"\n",
        "    checkpoint_callback = keras.callbacks.ModelCheckpoint(\n",
        "        checkpoint_filepath,\n",
        "        monitor=\"val_accuracy\",\n",
        "        save_best_only=True,\n",
        "        save_weights_only=True,\n",
        "    )\n",
        "\n",
        "    history = model.fit(\n",
        "        x=x_train,\n",
        "        y=y_train,\n",
        "        batch_size=batch_size,\n",
        "        epochs=num_epochs,\n",
        "        validation_split=0.1,\n",
        "        callbacks=[checkpoint_callback],\n",
        "    )\n",
        "\n",
        "    model.load_weights(checkpoint_filepath)\n",
        "    _, accuracy, top_5_accuracy = model.evaluate(x_test, y_test)\n",
        "    print(f\"Test accuracy: {round(accuracy * 100, 2)}%\")\n",
        "    print(f\"Test top 5 accuracy: {round(top_5_accuracy * 100, 2)}%\")\n",
        "\n",
        "    return history\n",
        "\n",
        "\n",
        "cct_model = create_cct_model()\n",
        "history = run_experiment(cct_model)"
      ]
    },
    {
      "cell_type": "code",
      "source": [
        "acc = history.history['accuracy']\n",
        "val_acc = history.history['val_accuracy']\n",
        "\n",
        "loss = history.history['loss']\n",
        "val_loss = history.history['val_loss']\n",
        "\n",
        "epochs_range = range(len(acc))\n",
        "\n",
        "# Plot training and validation accuracy per epoch\n",
        "plt.figure(figsize=(16, 6))\n",
        "plt.subplot(1, 2, 1)\n",
        "plt.plot(epochs_range, acc, label='Training Accuracy')\n",
        "plt.plot(epochs_range, val_acc, label='Validation Accuracy')\n",
        "plt.legend(loc='lower right')\n",
        "plt.title('Training and Validation Accuracy')\n",
        "plt.xlabel('Epochs')\n",
        "plt.ylabel('Accuracy')\n",
        "\n",
        "# Plot training and validation loss per epoch\n",
        "plt.subplot(1, 2, 2)\n",
        "plt.plot(epochs_range, loss, label='Training Loss')\n",
        "plt.plot(epochs_range, val_loss, label='Validation Loss')\n",
        "plt.legend(loc='upper right')\n",
        "plt.title('Training and Validation Loss')\n",
        "plt.xlabel('Epochs')\n",
        "plt.ylabel('Loss')\n",
        "\n",
        "plt.show()"
      ],
      "metadata": {
        "id": "5KcyUtvMiCpN",
        "outputId": "b9dfa51a-6816-4ee9-c963-db21bcb0a4fb",
        "colab": {
          "base_uri": "https://localhost:8080/",
          "height": 564
        }
      },
      "execution_count": 40,
      "outputs": [
        {
          "output_type": "display_data",
          "data": {
            "text/plain": [
              "<Figure size 1600x600 with 2 Axes>"
            ],
            "image/png": "[encoded data removed]"
          },
          "metadata": {}
        }
      ]
    },
    {
      "cell_type": "code",
      "source": [
        "# Convert y_test back to class labels\n",
        "y_test_classes = np.argmax(y_test, axis=1)\n",
        "\n",
        "# Predict the labels on the validation dataset\n",
        "y_pred = cct_model.predict(x_test)\n",
        "y_pred_classes = np.argmax(y_pred, axis=1)\n",
        "\n",
        "print(classification_report(y_test_classes, y_pred_classes, digits=4))"
      ],
      "metadata": {
        "id": "yvhHsJ5Sfi0I",
        "outputId": "017d78a8-e1f7-48ac-8858-16af5db43932",
        "colab": {
          "base_uri": "https://localhost:8080/"
        }
      },
      "execution_count": 41,
      "outputs": [
        {
          "output_type": "stream",
          "name": "stdout",
          "text": [
            "\u001b[1m313/313\u001b[0m \u001b[32m━━━━━━━━━━━━━━━━━━━━\u001b[0m\u001b[37m\u001b[0m \u001b[1m1s\u001b[0m 4ms/step\n",
            "              precision    recall  f1-score   support\n",
            "\n",
            "           0     0.8379    0.8170    0.8273      1000\n",
            "           1     0.9066    0.8640    0.8848      1000\n",
            "           2     0.7901    0.7150    0.7507      1000\n",
            "           3     0.6621    0.6330    0.6472      1000\n",
            "           4     0.7178    0.8470    0.7771      1000\n",
            "           5     0.7675    0.7230    0.7446      1000\n",
            "           6     0.8494    0.8180    0.8334      1000\n",
            "           7     0.8077    0.8570    0.8316      1000\n",
            "           8     0.8885    0.8690    0.8787      1000\n",
            "           9     0.8261    0.8980    0.8606      1000\n",
            "\n",
            "    accuracy                         0.8041     10000\n",
            "   macro avg     0.8054    0.8041    0.8036     10000\n",
            "weighted avg     0.8054    0.8041    0.8036     10000\n",
            "\n"
          ]
        }
      ]
    },
    {
      "cell_type": "code",
      "execution_count": 42,
      "metadata": {
        "id": "IhoTCFVYejdJ",
        "outputId": "cd3d7ea7-cf67-49ec-8898-ad8311acc0cd",
        "colab": {
          "base_uri": "https://localhost:8080/",
          "height": 872
        }
      },
      "outputs": [
        {
          "output_type": "display_data",
          "data": {
            "text/plain": [
              "<Figure size 1200x1000 with 2 Axes>"
            ],
            "image/png": "[encoded data removed]"
          },
          "metadata": {}
        }
      ],
      "source": [
        "\n",
        "# Compute the confusion matrix\n",
        "confusion_mtx = confusion_matrix(y_test_classes, y_pred_classes)\n",
        "\n",
        "# Plot the confusion matrix\n",
        "plt.figure(figsize=(12, 10))\n",
        "sns.heatmap(confusion_mtx, annot=False, fmt='d', cmap='Blues')\n",
        "plt.xlabel('Predicted Label')\n",
        "plt.ylabel('True Label')\n",
        "plt.title('Confusion Matrix')\n",
        "plt.show()"
      ]
    },
    {
      "cell_type": "markdown",
      "metadata": {
        "id": "swk0njxqejdJ"
      },
      "source": [
        "The CCT model we just trained has just **0.4 million** parameters, and it gets us to\n",
        "~79% top-1 accuracy within 30 epochs. The plot above shows no signs of overfitting as\n",
        "well. This means we can train this network for longer (perhaps with a bit more\n",
        "regularization) and may obtain even better performance. This performance can further be\n",
        "improved by additional recipes like cosine decay learning rate schedule, other data augmentation\n",
        "techniques like [AutoAugment](https://arxiv.org/abs/1805.09501),\n",
        "[MixUp](https://arxiv.org/abs/1710.09412) or\n",
        "[Cutmix](https://arxiv.org/abs/1905.04899). With these modifications, the authors present\n",
        "95.1% top-1 accuracy on the CIFAR-10 dataset. The authors also present a number of\n",
        "experiments to study how the number of convolution blocks, Transformers layers, etc.\n",
        "affect the final performance of CCTs.\n",
        "\n",
        "For a comparison, a ViT model takes about **4.7 million** parameters and **100\n",
        "epochs** of training to reach a top-1 accuracy of 78.22% on the CIFAR-10 dataset. You can\n",
        "refer to\n",
        "[this notebook](https://colab.research.google.com/gist/sayakpaul/1a80d9f582b044354a1a26c5cb3d69e5/image_classification_with_vision_transformer.ipynb)\n",
        "to know about the experimental setup.\n",
        "\n",
        "The authors also demonstrate the performance of Compact Convolutional Transformers on\n",
        "NLP tasks and they report competitive results there."
      ]
    }
  ],
  "metadata": {
    "accelerator": "GPU",
    "colab": {
      "name": "cct",
      "provenance": []
    },
    "kernelspec": {
      "display_name": "Python 3",
      "language": "python",
      "name": "python3"
    },
    "language_info": {
      "codemirror_mode": {
        "name": "ipython",
        "version": 3
      },
      "file_extension": ".py",
      "mimetype": "text/x-python",
      "name": "python",
      "nbconvert_exporter": "python",
      "pygments_lexer": "ipython3",
      "version": "3.7.0"
    }
  },
  "nbformat": 4,
  "nbformat_minor": 0
}